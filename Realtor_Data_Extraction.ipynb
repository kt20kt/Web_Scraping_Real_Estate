{
 "cells": [
  {
   "cell_type": "code",
   "execution_count": 1,
   "id": "00859e2b-9123-4e29-9516-dba32dd007ab",
   "metadata": {},
   "outputs": [],
   "source": [
    "import requests\n",
    "import pandas as pd"
   ]
  },
  {
   "cell_type": "code",
   "execution_count": 2,
   "id": "89f4d521-50b2-4b13-83c6-18ca743e93a3",
   "metadata": {},
   "outputs": [],
   "source": [
    "import requests\n",
    "\n",
    "headers = {\n",
    "    'accept': '*/*',\n",
    "    'accept-language': 'en-GB,en;q=0.9,fr-CA;q=0.8,fr;q=0.7,hi-IN;q=0.6,hi;q=0.5,gu-IN;q=0.4,gu;q=0.3,en-US;q=0.2',\n",
    "    'content-type': 'application/x-www-form-urlencoded; charset=UTF-8',\n",
    "    'cookie': 'visid_incap_2269415=Lch9eIqmTi+LVl6dk0taq+aLK2YAAAAAQUIPAAAAAACHfdBISG4y9W5lb9QLa6Mo; incap_ses_674_2269415=BaSDOBdiSy2ay/7TdIdaCeaLK2YAAAAA51sUSffe0LFI+OsmW3CIYg==; incap_ses_707_2269415=cdGiAy7MOTjpDf9nysTPCeeLK2YAAAAAb2mcN8djuRrve3nNzSvv8w==; _gcl_au=1.1.1857133777.1714129898; _gid=GA1.2.1757905510.1714129899; visid_incap_3057435=RQN2X7qfQzC+koRGsSJVKOyLK2YAAAAAQUIPAAAAAAB325h+eWS21G12qpwGQa+5; nlbi_3057435=LcgmE+z0x2VHT1gLoWGLxgAAAAATw+7TEv7US5tmLeFNE3MY; incap_ses_707_3057435=HuOEFAvYVz6RE/9nysTPCe2LK2YAAAAA0uvFeKw0BwEfsLNuoMnSJg==; gig_bootstrap_3_mrQiIl6ov44s2X3j6NGWVZ9SDDtplqV7WgdcyEpGYnYxl7ygDWPQHqQqtpSiUfko=gigya-pr_ver4; visid_incap_2271082=80Qzo5klQCunxVg7LGx5T/eLK2YAAAAAQUIPAAAAAAAzjLGNFIhkW20dfwj3eHbR; nlbi_2271082=c2EpL2rc0kcVDJxQVPrQ3QAAAAC8k6swg7x2XjCYhjBpDQX4; incap_ses_707_2271082=FD9UAWKDNloeHv9nysTPCfiLK2YAAAAApsUvpsWrXNbf0bbN12A/0Q==; _ga=GA1.2.1226795117.1714129899; reese84=3:1txUQJGFqiYONWLwbvJadg==:7+JobFM1uCYYL/uXWBJMZ+2LFGOj5xLHHQNjDQbKR80IuYrqQ6tBLvRKJEObnn+o+N2lYgRYjsT/b8DdVVN78zhqGS4EIOc+w+LXaL+igsOZEJ6ZVW2Gr+knQUyFnVQBNcmRXkROnyCQ2OmVaQ9SGAOHiBfFvIx8UcJgGwQ320v1h7FZfBQ+i1gi7KKuS6JLDBPQu5QdXoES/4p+udIrKpwVSJTc4z2LeYRUJIKLDqdGH2xOzxS9U7Gc8sE8gJYCF2U95V0ygSUhRWxm8jpzKltWMtQVZeMxi333XpkchTjL2cEkD96op+YUl/taU8eFEglV8ylHEvpXEjZCZqv3Ip+8TlEXqWvL0T1s+/fI3ybrdtcqZvDI8P7fFoHUVKnCv614P8MMXRpWFlaXXGN8ug7fYOoKUsJNwTcU9BchcO5XKbVtrx9U7wvx4ESfXporSyumAZnYvsN+wScKdNEuRw==:B1976oa+DIxgo4fHERBoLRfQ3HswguLJdvg7p9VEyHA=; _dc_gtm_UA-12908513-11=1; _ga_Y07J3B53QP=GS1.1.1714129898.1.1.1714131663.60.0.0',\n",
    "    'origin': 'https://www.realtor.ca',\n",
    "    'priority': 'u=1, i',\n",
    "    'referer': 'https://www.realtor.ca/',\n",
    "    '^sec-ch-ua': '^\\\\^Chromium^\\\\^;v=^\\\\^124^\\\\^, ^\\\\^Google',\n",
    "    'sec-ch-ua-mobile': '?0',\n",
    "    '^sec-ch-ua-platform': '^\\\\^Windows^\\\\^^',\n",
    "    'sec-fetch-dest': 'empty',\n",
    "    'sec-fetch-mode': 'cors',\n",
    "    'sec-fetch-site': 'same-site',\n",
    "    'user-agent': 'Mozilla/5.0 (Windows NT 10.0; Win64; x64) AppleWebKit/537.36 (KHTML, like Gecko) Chrome/124.0.0.0 Safari/537.36',\n",
    "}\n",
    "\n",
    "data = {\n",
    "  'ZoomLevel': '9',\n",
    "  'LatitudeMax': '45.67700',\n",
    "  'LongitudeMax': '-74.50219',\n",
    "  'LatitudeMin': '44.82041',\n",
    "  'LongitudeMin': '-77.09771',\n",
    "  'Sort': '6-D',\n",
    "  'PropertyTypeGroupID': '1',\n",
    "  'TransactionTypeId': '2',\n",
    "  'PropertySearchTypeId': '0',\n",
    "  'Currency': 'CAD',\n",
    "  'IncludeHiddenListings': 'false',\n",
    "  'RecordsPerPage': '12',\n",
    "  'ApplicationId': '1',\n",
    "  'CultureId': '1',\n",
    "  'Version': '7.0',\n",
    "  'CurrentPage': '1'\n",
    "}\n",
    "\n",
    "response = requests.post('https://api2.realtor.ca/Listing.svc/PropertySearch_Post', headers=headers, data=data)\n"
   ]
  },
  {
   "cell_type": "code",
   "execution_count": null,
   "id": "1eff45da-74d7-4575-a1c6-0e2620b59c93",
   "metadata": {},
   "outputs": [],
   "source": []
  },
  {
   "cell_type": "code",
   "execution_count": 3,
   "id": "abd12026-af4b-40fd-b360-1764e28adb94",
   "metadata": {},
   "outputs": [
    {
     "data": {
      "text/plain": [
       "<Response [200]>"
      ]
     },
     "execution_count": 3,
     "metadata": {},
     "output_type": "execute_result"
    }
   ],
   "source": [
    "response"
   ]
  },
  {
   "cell_type": "code",
   "execution_count": 6,
   "id": "d7960ac4-929e-46d0-ac83-daac4a3819bd",
   "metadata": {},
   "outputs": [],
   "source": [
    "result_json= response.json()"
   ]
  },
  {
   "cell_type": "code",
   "execution_count": 7,
   "id": "d1de8436-6789-4794-ad38-feee857c1c15",
   "metadata": {},
   "outputs": [
    {
     "data": {
      "text/plain": [
       "dict_keys(['ErrorCode', 'Paging', 'Results', 'Pins', 'GroupingLevel'])"
      ]
     },
     "execution_count": 7,
     "metadata": {},
     "output_type": "execute_result"
    }
   ],
   "source": [
    "result_json.keys()"
   ]
  },
  {
   "cell_type": "code",
   "execution_count": 10,
   "id": "78c8d3f0-bb4b-4ee8-b413-6d5489c2631c",
   "metadata": {},
   "outputs": [],
   "source": [
    "result_items = result_json['Results']"
   ]
  },
  {
   "cell_type": "code",
   "execution_count": 11,
   "id": "21d97dad-304d-4653-8ec6-ee9e7bde6941",
   "metadata": {},
   "outputs": [
    {
     "data": {
      "text/plain": [
       "12"
      ]
     },
     "execution_count": 11,
     "metadata": {},
     "output_type": "execute_result"
    }
   ],
   "source": [
    "len(result_items)"
   ]
  },
  {
   "cell_type": "code",
   "execution_count": 19,
   "id": "96384718-b5a4-4d9c-9e9b-1859e93d915d",
   "metadata": {},
   "outputs": [
    {
     "data": {
      "text/plain": [
       "'241 Rue Henri-Matisse|#4|Gatineau (Gatineau), Quebec J8P0A9'"
      ]
     },
     "execution_count": 19,
     "metadata": {},
     "output_type": "execute_result"
    }
   ],
   "source": [
    "# Address\n",
    "result_items[0]['Property']['Address']['AddressText']"
   ]
  },
  {
   "cell_type": "code",
   "execution_count": 21,
   "id": "1206b842-92f4-4b2d-b86d-7fe44bab253e",
   "metadata": {},
   "outputs": [
    {
     "data": {
      "text/plain": [
       "'2'"
      ]
     },
     "execution_count": 21,
     "metadata": {},
     "output_type": "execute_result"
    }
   ],
   "source": [
    "#Bedrooms\n",
    "result_items[0]['Building']['Bedrooms']"
   ]
  },
  {
   "cell_type": "code",
   "execution_count": 22,
   "id": "27bac49d-339a-45f6-b1b9-319d85eff073",
   "metadata": {},
   "outputs": [
    {
     "data": {
      "text/plain": [
       "'1'"
      ]
     },
     "execution_count": 22,
     "metadata": {},
     "output_type": "execute_result"
    }
   ],
   "source": [
    "#bathrooms\n",
    "result_items[0]['Building']['BathroomTotal']"
   ]
  },
  {
   "cell_type": "code",
   "execution_count": 31,
   "id": "efc0905d-c070-4549-a90d-0b2d64e6b57f",
   "metadata": {},
   "outputs": [
    {
     "data": {
      "text/plain": [
       "'Mathieu Chénier'"
      ]
     },
     "execution_count": 31,
     "metadata": {},
     "output_type": "execute_result"
    }
   ],
   "source": [
    "#dealer name\n",
    "result_items[0]['Individual'][0]['Name']"
   ]
  },
  {
   "cell_type": "code",
   "execution_count": 40,
   "id": "f3a4f80c-0c08-47d8-a88a-d027c1f857e3",
   "metadata": {},
   "outputs": [
    {
     "data": {
      "text/plain": [
       "'819'"
      ]
     },
     "execution_count": 40,
     "metadata": {},
     "output_type": "execute_result"
    }
   ],
   "source": [
    "#area code\n",
    "result_items[0]['Individual'][0]['Phones'][0]['AreaCode']"
   ]
  },
  {
   "cell_type": "code",
   "execution_count": 42,
   "id": "ad8204c6-d557-4bf5-966f-6f0208f01c92",
   "metadata": {},
   "outputs": [
    {
     "data": {
      "text/plain": [
       "'210-1162'"
      ]
     },
     "execution_count": 42,
     "metadata": {},
     "output_type": "execute_result"
    }
   ],
   "source": [
    "#phonenumber\n",
    "result_items[0]['Individual'][0]['Phones'][0]['PhoneNumber']"
   ]
  },
  {
   "cell_type": "code",
   "execution_count": 44,
   "id": "0a42a477-10b7-4f07-833a-1f40a80749ca",
   "metadata": {},
   "outputs": [
    {
     "data": {
      "text/plain": [
       "'$314,900'"
      ]
     },
     "execution_count": 44,
     "metadata": {},
     "output_type": "execute_result"
    }
   ],
   "source": [
    "#price\n",
    "result_items[0]['Property']['Price']"
   ]
  },
  {
   "cell_type": "code",
   "execution_count": 48,
   "id": "89dd0225-bf74-4566-88b0-40f3ce86469b",
   "metadata": {},
   "outputs": [],
   "source": [
    "address=[]\n",
    "bedrooms=[]\n",
    "bathrooms=[]\n",
    "agent_name=[]\n",
    "area_code=[]\n",
    "phone_number=[]\n",
    "price=[]\n",
    "\n",
    "\n",
    "for result in result_items:\n",
    "\n",
    "    #address\n",
    "    try:\n",
    "        address.append(result['Property']['Address']['AddressText'])\n",
    "    except:\n",
    "        address.append(' ')\n",
    "\n",
    "    #bedrooms\n",
    "    try:\n",
    "        bedrooms.append(result['Building']['Bedrooms'])\n",
    "    except:\n",
    "        bedrooms.append(' ')\n",
    "\n",
    "    #bathrooms\n",
    "    try:\n",
    "        bathrooms.append(result['Building']['BathroomTotal'])\n",
    "    except:\n",
    "        bathrooms.append(' ')\n",
    "\n",
    "    #agentname\n",
    "    try:\n",
    "        agent_name.append(result['Individual'][0]['Name'])\n",
    "    except:\n",
    "        agent_name.append(' ')\n",
    "\n",
    "    #areacode\n",
    "    try:\n",
    "        area_code.append(result['Individual'][0]['Phones'][0]['AreaCode'])\n",
    "    except:\n",
    "        area_code.append(' ')\n",
    "\n",
    "    #phonenumber\n",
    "    try:\n",
    "        phone_number.append(result['Individual'][0]['Phones'][0]['PhoneNumber'])\n",
    "    except:\n",
    "        phone_number.append(' ')\n",
    "\n",
    "    #price\n",
    "    try:\n",
    "        price.append(result['Property']['Price'])\n",
    "    except:\n",
    "        price.append(' ')\n",
    "\n",
    "    \n",
    "\n",
    "    \n"
   ]
  },
  {
   "cell_type": "code",
   "execution_count": null,
   "id": "8b1b5e08-5eb2-44cf-886d-ded17c5fad12",
   "metadata": {},
   "outputs": [],
   "source": []
  },
  {
   "cell_type": "code",
   "execution_count": 49,
   "id": "7ddb0a23-0a76-489d-96c7-77e4bb07199b",
   "metadata": {},
   "outputs": [],
   "source": [
    "df_realtor = pd.DataFrame({'Address':address, 'Bedrooms': bedrooms, 'Bathrooms':bathrooms, 'Agent Name':agent_name, \n",
    "                           'Area Code': area_code, 'Telephone':phone_number, 'Price':price})"
   ]
  },
  {
   "cell_type": "code",
   "execution_count": 51,
   "id": "423c3cea-c9a6-46f1-bdf3-68db84e62f2f",
   "metadata": {},
   "outputs": [
    {
     "data": {
      "text/html": [
       "<div>\n",
       "<style scoped>\n",
       "    .dataframe tbody tr th:only-of-type {\n",
       "        vertical-align: middle;\n",
       "    }\n",
       "\n",
       "    .dataframe tbody tr th {\n",
       "        vertical-align: top;\n",
       "    }\n",
       "\n",
       "    .dataframe thead th {\n",
       "        text-align: right;\n",
       "    }\n",
       "</style>\n",
       "<table border=\"1\" class=\"dataframe\">\n",
       "  <thead>\n",
       "    <tr style=\"text-align: right;\">\n",
       "      <th></th>\n",
       "      <th>Address</th>\n",
       "      <th>Bedrooms</th>\n",
       "      <th>Bathrooms</th>\n",
       "      <th>Agent Name</th>\n",
       "      <th>Area Code</th>\n",
       "      <th>Telephone</th>\n",
       "      <th>Price</th>\n",
       "    </tr>\n",
       "  </thead>\n",
       "  <tbody>\n",
       "    <tr>\n",
       "      <th>0</th>\n",
       "      <td>241 Rue Henri-Matisse|#4|Gatineau (Gatineau), ...</td>\n",
       "      <td>2</td>\n",
       "      <td>1</td>\n",
       "      <td>Mathieu Chénier</td>\n",
       "      <td>819</td>\n",
       "      <td>210-1162</td>\n",
       "      <td>$314,900</td>\n",
       "    </tr>\n",
       "    <tr>\n",
       "      <th>1</th>\n",
       "      <td>1540 CHAMPAGNE AVENUE|Cornwall, Ontario K6J4W8</td>\n",
       "      <td>4 + 0</td>\n",
       "      <td>2</td>\n",
       "      <td>Katie Bellsmith</td>\n",
       "      <td>613</td>\n",
       "      <td>362-2162</td>\n",
       "      <td>$339,000</td>\n",
       "    </tr>\n",
       "    <tr>\n",
       "      <th>2</th>\n",
       "      <td>5037 PRUNNER ROAD|Williamsburg, Ontario K0C2H0</td>\n",
       "      <td>3 + 0</td>\n",
       "      <td>1</td>\n",
       "      <td>Tracey Veinotte</td>\n",
       "      <td>613</td>\n",
       "      <td>363-9496</td>\n",
       "      <td>$599,900</td>\n",
       "    </tr>\n",
       "    <tr>\n",
       "      <th>3</th>\n",
       "      <td>262 KILSPINDIE RIDGE|Ottawa, Ontario K2J5M8</td>\n",
       "      <td>4 + 0</td>\n",
       "      <td>3</td>\n",
       "      <td>Helen Tang</td>\n",
       "      <td>613</td>\n",
       "      <td>762-4345</td>\n",
       "      <td>$1,149,900</td>\n",
       "    </tr>\n",
       "    <tr>\n",
       "      <th>4</th>\n",
       "      <td>21 MIDLAND CRESCENT|Ottawa, Ontario K2H8P6</td>\n",
       "      <td>3 + 1</td>\n",
       "      <td>2</td>\n",
       "      <td>Burim Gashi</td>\n",
       "      <td>613</td>\n",
       "      <td>558-1410</td>\n",
       "      <td>$475,000</td>\n",
       "    </tr>\n",
       "    <tr>\n",
       "      <th>5</th>\n",
       "      <td>6787 BREANNA CARDILL STREET|Greely, Ontario K4...</td>\n",
       "      <td>3 + 0</td>\n",
       "      <td>4</td>\n",
       "      <td>Amy Haggerty</td>\n",
       "      <td>613</td>\n",
       "      <td>612-5009</td>\n",
       "      <td>$679,900</td>\n",
       "    </tr>\n",
       "    <tr>\n",
       "      <th>6</th>\n",
       "      <td>671 COBALT STREET|Ottawa, Ontario K4K0L8</td>\n",
       "      <td>4 + 0</td>\n",
       "      <td>4</td>\n",
       "      <td>Akram Syed</td>\n",
       "      <td>613</td>\n",
       "      <td>276-0398</td>\n",
       "      <td>$825,000</td>\n",
       "    </tr>\n",
       "    <tr>\n",
       "      <th>7</th>\n",
       "      <td>13 EVANSHEN CRESCENT|Ottawa, Ontario K2K2Z6</td>\n",
       "      <td>4 + 1</td>\n",
       "      <td>4</td>\n",
       "      <td>Guan Guan</td>\n",
       "      <td>613</td>\n",
       "      <td>618-6437</td>\n",
       "      <td>$949,900</td>\n",
       "    </tr>\n",
       "    <tr>\n",
       "      <th>8</th>\n",
       "      <td>117 Rue St-Hyacinthe|Gatineau (Hull), Quebec J...</td>\n",
       "      <td>2</td>\n",
       "      <td>1</td>\n",
       "      <td>Jimmy Arseneault</td>\n",
       "      <td>819</td>\n",
       "      <td>664-7755</td>\n",
       "      <td>$349,800</td>\n",
       "    </tr>\n",
       "    <tr>\n",
       "      <th>9</th>\n",
       "      <td>3721 PADEN RD|Ottawa, Ontario K0A2T0</td>\n",
       "      <td>3 + 1</td>\n",
       "      <td>2</td>\n",
       "      <td>ARTHUR PAK YU</td>\n",
       "      <td>416</td>\n",
       "      <td>720-0001</td>\n",
       "      <td>$1,088,000</td>\n",
       "    </tr>\n",
       "    <tr>\n",
       "      <th>10</th>\n",
       "      <td>321 LISGAR AVENUE|Renfrew, Ontario K7V3N1</td>\n",
       "      <td>2 + 0</td>\n",
       "      <td>2</td>\n",
       "      <td>Peter Adamovits</td>\n",
       "      <td>613</td>\n",
       "      <td>866-9999</td>\n",
       "      <td>$342,000</td>\n",
       "    </tr>\n",
       "    <tr>\n",
       "      <th>11</th>\n",
       "      <td>213 KINDERWOOD WAY|Kemptville, Ontario K0G1J0</td>\n",
       "      <td>4 + 1</td>\n",
       "      <td>4</td>\n",
       "      <td>Michael Dapaah</td>\n",
       "      <td>613</td>\n",
       "      <td>883-9234</td>\n",
       "      <td>$829,000</td>\n",
       "    </tr>\n",
       "  </tbody>\n",
       "</table>\n",
       "</div>"
      ],
      "text/plain": [
       "                                              Address Bedrooms Bathrooms  \\\n",
       "0   241 Rue Henri-Matisse|#4|Gatineau (Gatineau), ...        2         1   \n",
       "1      1540 CHAMPAGNE AVENUE|Cornwall, Ontario K6J4W8    4 + 0         2   \n",
       "2      5037 PRUNNER ROAD|Williamsburg, Ontario K0C2H0    3 + 0         1   \n",
       "3         262 KILSPINDIE RIDGE|Ottawa, Ontario K2J5M8    4 + 0         3   \n",
       "4          21 MIDLAND CRESCENT|Ottawa, Ontario K2H8P6    3 + 1         2   \n",
       "5   6787 BREANNA CARDILL STREET|Greely, Ontario K4...    3 + 0         4   \n",
       "6            671 COBALT STREET|Ottawa, Ontario K4K0L8    4 + 0         4   \n",
       "7         13 EVANSHEN CRESCENT|Ottawa, Ontario K2K2Z6    4 + 1         4   \n",
       "8   117 Rue St-Hyacinthe|Gatineau (Hull), Quebec J...        2         1   \n",
       "9                3721 PADEN RD|Ottawa, Ontario K0A2T0    3 + 1         2   \n",
       "10          321 LISGAR AVENUE|Renfrew, Ontario K7V3N1    2 + 0         2   \n",
       "11      213 KINDERWOOD WAY|Kemptville, Ontario K0G1J0    4 + 1         4   \n",
       "\n",
       "          Agent Name Area Code Telephone       Price  \n",
       "0    Mathieu Chénier       819  210-1162    $314,900  \n",
       "1    Katie Bellsmith       613  362-2162    $339,000  \n",
       "2    Tracey Veinotte       613  363-9496    $599,900  \n",
       "3         Helen Tang       613  762-4345  $1,149,900  \n",
       "4        Burim Gashi       613  558-1410    $475,000  \n",
       "5       Amy Haggerty       613  612-5009    $679,900  \n",
       "6         Akram Syed       613  276-0398    $825,000  \n",
       "7          Guan Guan       613  618-6437    $949,900  \n",
       "8   Jimmy Arseneault       819  664-7755    $349,800  \n",
       "9      ARTHUR PAK YU       416  720-0001  $1,088,000  \n",
       "10   Peter Adamovits       613  866-9999    $342,000  \n",
       "11    Michael Dapaah       613  883-9234    $829,000  "
      ]
     },
     "execution_count": 51,
     "metadata": {},
     "output_type": "execute_result"
    }
   ],
   "source": [
    "df_realtor"
   ]
  },
  {
   "cell_type": "code",
   "execution_count": 52,
   "id": "837040a2-b975-4b5c-8418-ebfb39e552ff",
   "metadata": {},
   "outputs": [],
   "source": [
    "address=[]\n",
    "bedrooms=[]\n",
    "bathrooms=[]\n",
    "agent_name=[]\n",
    "area_code=[]\n",
    "phone_number=[]\n",
    "price=[]\n",
    "\n",
    "for i in range (1,51):\n",
    "    \n",
    "    headers = {\n",
    "        'accept': '*/*',\n",
    "        'accept-language': 'en-GB,en;q=0.9,fr-CA;q=0.8,fr;q=0.7,hi-IN;q=0.6,hi;q=0.5,gu-IN;q=0.4,gu;q=0.3,en-US;q=0.2',\n",
    "        'content-type': 'application/x-www-form-urlencoded; charset=UTF-8',\n",
    "        'cookie': 'visid_incap_2269415=Lch9eIqmTi+LVl6dk0taq+aLK2YAAAAAQUIPAAAAAACHfdBISG4y9W5lb9QLa6Mo; incap_ses_674_2269415=BaSDOBdiSy2ay/7TdIdaCeaLK2YAAAAA51sUSffe0LFI+OsmW3CIYg==; incap_ses_707_2269415=cdGiAy7MOTjpDf9nysTPCeeLK2YAAAAAb2mcN8djuRrve3nNzSvv8w==; _gcl_au=1.1.1857133777.1714129898; _gid=GA1.2.1757905510.1714129899; visid_incap_3057435=RQN2X7qfQzC+koRGsSJVKOyLK2YAAAAAQUIPAAAAAAB325h+eWS21G12qpwGQa+5; nlbi_3057435=LcgmE+z0x2VHT1gLoWGLxgAAAAATw+7TEv7US5tmLeFNE3MY; incap_ses_707_3057435=HuOEFAvYVz6RE/9nysTPCe2LK2YAAAAA0uvFeKw0BwEfsLNuoMnSJg==; gig_bootstrap_3_mrQiIl6ov44s2X3j6NGWVZ9SDDtplqV7WgdcyEpGYnYxl7ygDWPQHqQqtpSiUfko=gigya-pr_ver4; visid_incap_2271082=80Qzo5klQCunxVg7LGx5T/eLK2YAAAAAQUIPAAAAAAAzjLGNFIhkW20dfwj3eHbR; nlbi_2271082=c2EpL2rc0kcVDJxQVPrQ3QAAAAC8k6swg7x2XjCYhjBpDQX4; incap_ses_707_2271082=FD9UAWKDNloeHv9nysTPCfiLK2YAAAAApsUvpsWrXNbf0bbN12A/0Q==; _ga=GA1.2.1226795117.1714129899; reese84=3:1txUQJGFqiYONWLwbvJadg==:7+JobFM1uCYYL/uXWBJMZ+2LFGOj5xLHHQNjDQbKR80IuYrqQ6tBLvRKJEObnn+o+N2lYgRYjsT/b8DdVVN78zhqGS4EIOc+w+LXaL+igsOZEJ6ZVW2Gr+knQUyFnVQBNcmRXkROnyCQ2OmVaQ9SGAOHiBfFvIx8UcJgGwQ320v1h7FZfBQ+i1gi7KKuS6JLDBPQu5QdXoES/4p+udIrKpwVSJTc4z2LeYRUJIKLDqdGH2xOzxS9U7Gc8sE8gJYCF2U95V0ygSUhRWxm8jpzKltWMtQVZeMxi333XpkchTjL2cEkD96op+YUl/taU8eFEglV8ylHEvpXEjZCZqv3Ip+8TlEXqWvL0T1s+/fI3ybrdtcqZvDI8P7fFoHUVKnCv614P8MMXRpWFlaXXGN8ug7fYOoKUsJNwTcU9BchcO5XKbVtrx9U7wvx4ESfXporSyumAZnYvsN+wScKdNEuRw==:B1976oa+DIxgo4fHERBoLRfQ3HswguLJdvg7p9VEyHA=; _dc_gtm_UA-12908513-11=1; _ga_Y07J3B53QP=GS1.1.1714129898.1.1.1714131663.60.0.0',\n",
    "        'origin': 'https://www.realtor.ca',\n",
    "        'priority': 'u=1, i',\n",
    "        'referer': 'https://www.realtor.ca/',\n",
    "        '^sec-ch-ua': '^\\\\^Chromium^\\\\^;v=^\\\\^124^\\\\^, ^\\\\^Google',\n",
    "        'sec-ch-ua-mobile': '?0',\n",
    "        '^sec-ch-ua-platform': '^\\\\^Windows^\\\\^^',\n",
    "        'sec-fetch-dest': 'empty',\n",
    "        'sec-fetch-mode': 'cors',\n",
    "        'sec-fetch-site': 'same-site',\n",
    "        'user-agent': 'Mozilla/5.0 (Windows NT 10.0; Win64; x64) AppleWebKit/537.36 (KHTML, like Gecko) Chrome/124.0.0.0 Safari/537.36',\n",
    "    }\n",
    "\n",
    "    data = {\n",
    "      'ZoomLevel': '9',\n",
    "      'LatitudeMax': '45.67700',\n",
    "      'LongitudeMax': '-74.50219',\n",
    "      'LatitudeMin': '44.82041',\n",
    "      'LongitudeMin': '-77.09771',\n",
    "      'Sort': '6-D',\n",
    "      'PropertyTypeGroupID': '1',\n",
    "      'TransactionTypeId': '2',\n",
    "      'PropertySearchTypeId': '0',\n",
    "      'Currency': 'CAD',\n",
    "      'IncludeHiddenListings': 'false',\n",
    "      'RecordsPerPage': '12',\n",
    "      'ApplicationId': '1',\n",
    "      'CultureId': '1',\n",
    "      'Version': '7.0',\n",
    "      'CurrentPage': str(i),\n",
    "    }\n",
    "    \n",
    "    response = requests.post('https://api2.realtor.ca/Listing.svc/PropertySearch_Post', headers=headers, data=data)\n",
    "\n",
    "    result_json= response.json()\n",
    "\n",
    "    result_items = result_json['Results']\n",
    "\n",
    "    for result in result_items:\n",
    "\n",
    "        #address\n",
    "        try:\n",
    "            address.append(result['Property']['Address']['AddressText'])\n",
    "        except:\n",
    "            address.append(' ')\n",
    "    \n",
    "        #bedrooms\n",
    "        try:\n",
    "            bedrooms.append(result['Building']['Bedrooms'])\n",
    "        except:\n",
    "            bedrooms.append(' ')\n",
    "    \n",
    "        #bathrooms\n",
    "        try:\n",
    "            bathrooms.append(result['Building']['BathroomTotal'])\n",
    "        except:\n",
    "            bathrooms.append(' ')\n",
    "    \n",
    "        #agentname\n",
    "        try:\n",
    "            agent_name.append(result['Individual'][0]['Name'])\n",
    "        except:\n",
    "            agent_name.append(' ')\n",
    "\n",
    "        #areacode\n",
    "        try:\n",
    "            area_code.append(result['Individual'][0]['Phones'][0]['AreaCode'])\n",
    "        except:\n",
    "            area_code.append(' ')\n",
    "    \n",
    "        #phonenumber\n",
    "        try:\n",
    "            phone_number.append(result['Individual'][0]['Phones'][0]['PhoneNumber'])\n",
    "        except:\n",
    "            phone_number.append(' ')\n",
    "    \n",
    "        #price\n",
    "        try:\n",
    "            price.append(result['Property']['Price'])\n",
    "        except:\n",
    "            price.append(' ')"
   ]
  },
  {
   "cell_type": "code",
   "execution_count": 53,
   "id": "ab298561-7b2c-45aa-8cb9-0ac03daf8a4f",
   "metadata": {},
   "outputs": [],
   "source": [
    "df_realtor = pd.DataFrame({'Address':address, 'Bedrooms': bedrooms, 'Bathrooms':bathrooms, 'Agent Name':agent_name, \n",
    "                           'Area Code': area_code, 'Telephone':phone_number, 'Price':price})"
   ]
  },
  {
   "cell_type": "code",
   "execution_count": 54,
   "id": "7ec3db4e-a3d2-4502-a987-59e8ab4dc47e",
   "metadata": {},
   "outputs": [
    {
     "data": {
      "text/html": [
       "<div>\n",
       "<style scoped>\n",
       "    .dataframe tbody tr th:only-of-type {\n",
       "        vertical-align: middle;\n",
       "    }\n",
       "\n",
       "    .dataframe tbody tr th {\n",
       "        vertical-align: top;\n",
       "    }\n",
       "\n",
       "    .dataframe thead th {\n",
       "        text-align: right;\n",
       "    }\n",
       "</style>\n",
       "<table border=\"1\" class=\"dataframe\">\n",
       "  <thead>\n",
       "    <tr style=\"text-align: right;\">\n",
       "      <th></th>\n",
       "      <th>Address</th>\n",
       "      <th>Bedrooms</th>\n",
       "      <th>Bathrooms</th>\n",
       "      <th>Agent Name</th>\n",
       "      <th>Area Code</th>\n",
       "      <th>Telephone</th>\n",
       "      <th>Price</th>\n",
       "    </tr>\n",
       "  </thead>\n",
       "  <tbody>\n",
       "    <tr>\n",
       "      <th>0</th>\n",
       "      <td>1207 3RD STREET E|Cornwall, Ontario K6H2G4</td>\n",
       "      <td>3 + 0</td>\n",
       "      <td>1</td>\n",
       "      <td>Hardeep Singh</td>\n",
       "      <td>613</td>\n",
       "      <td>936-3996</td>\n",
       "      <td>$283,000</td>\n",
       "    </tr>\n",
       "    <tr>\n",
       "      <th>1</th>\n",
       "      <td>15710 CONCESSION 1-2 ROAD|Finch, Ontario K0C1K0</td>\n",
       "      <td>1 + 0</td>\n",
       "      <td>2</td>\n",
       "      <td>Joshua Coyle</td>\n",
       "      <td>613</td>\n",
       "      <td>577-4570</td>\n",
       "      <td>$324,900</td>\n",
       "    </tr>\n",
       "    <tr>\n",
       "      <th>2</th>\n",
       "      <td>25 ROBINSON AVENUE UNIT#A|Ottawa, Ontario K1N8N8</td>\n",
       "      <td>2 + 1</td>\n",
       "      <td>3</td>\n",
       "      <td>Fu Xiang Xiong</td>\n",
       "      <td>613</td>\n",
       "      <td>261-1568</td>\n",
       "      <td>$699,000</td>\n",
       "    </tr>\n",
       "    <tr>\n",
       "      <th>3</th>\n",
       "      <td>39 KYLE AVENUE|Ottawa, Ontario K2S1G9</td>\n",
       "      <td>4 + 0</td>\n",
       "      <td>3</td>\n",
       "      <td>Brenda Odam</td>\n",
       "      <td>613</td>\n",
       "      <td>762-0592</td>\n",
       "      <td>$949,000</td>\n",
       "    </tr>\n",
       "    <tr>\n",
       "      <th>4</th>\n",
       "      <td>91 THISTLEDOWN COURT|Ottawa, Ontario K2J1J5</td>\n",
       "      <td>3 + 1</td>\n",
       "      <td>2</td>\n",
       "      <td>Ali Novin</td>\n",
       "      <td>613</td>\n",
       "      <td>218-0808</td>\n",
       "      <td>$419,500</td>\n",
       "    </tr>\n",
       "    <tr>\n",
       "      <th>...</th>\n",
       "      <td>...</td>\n",
       "      <td>...</td>\n",
       "      <td>...</td>\n",
       "      <td>...</td>\n",
       "      <td>...</td>\n",
       "      <td>...</td>\n",
       "      <td>...</td>\n",
       "    </tr>\n",
       "    <tr>\n",
       "      <th>595</th>\n",
       "      <td>17306 MYERS ROAD|South Stormont, Ontario K0C2A0</td>\n",
       "      <td>4 + 0</td>\n",
       "      <td>4</td>\n",
       "      <td>Donna Chisholm-Forget</td>\n",
       "      <td>613</td>\n",
       "      <td>360-0929</td>\n",
       "      <td>$950,000</td>\n",
       "    </tr>\n",
       "    <tr>\n",
       "      <th>596</th>\n",
       "      <td>1028 ADLEY ROAD|Ottawa, Ontario K1J8B9</td>\n",
       "      <td>3 + 0</td>\n",
       "      <td>2</td>\n",
       "      <td>Suzie Lamothe</td>\n",
       "      <td>613</td>\n",
       "      <td>834-9255</td>\n",
       "      <td>$599,900</td>\n",
       "    </tr>\n",
       "    <tr>\n",
       "      <th>597</th>\n",
       "      <td>3285 GREENBANK ROAD|Ottawa, Ontario K2J4J1</td>\n",
       "      <td>5 + 0</td>\n",
       "      <td>3</td>\n",
       "      <td>Peter Cai</td>\n",
       "      <td>647</td>\n",
       "      <td>529-5158</td>\n",
       "      <td>$6,530,000</td>\n",
       "    </tr>\n",
       "    <tr>\n",
       "      <th>598</th>\n",
       "      <td>7101 MASON STREET|Greely, Ontario K4P1C3</td>\n",
       "      <td></td>\n",
       "      <td></td>\n",
       "      <td>Isam Hashweh</td>\n",
       "      <td>613</td>\n",
       "      <td>761-8350</td>\n",
       "      <td>$395,000</td>\n",
       "    </tr>\n",
       "    <tr>\n",
       "      <th>599</th>\n",
       "      <td>326 EVEREST PRIVATE UNIT#C|Ottawa, Ontario K1G4E3</td>\n",
       "      <td>2 + 0</td>\n",
       "      <td>2</td>\n",
       "      <td>Jeffrey Gauthier</td>\n",
       "      <td>613</td>\n",
       "      <td>862-1077</td>\n",
       "      <td>$415,000</td>\n",
       "    </tr>\n",
       "  </tbody>\n",
       "</table>\n",
       "<p>600 rows × 7 columns</p>\n",
       "</div>"
      ],
      "text/plain": [
       "                                               Address Bedrooms Bathrooms  \\\n",
       "0           1207 3RD STREET E|Cornwall, Ontario K6H2G4    3 + 0         1   \n",
       "1      15710 CONCESSION 1-2 ROAD|Finch, Ontario K0C1K0    1 + 0         2   \n",
       "2     25 ROBINSON AVENUE UNIT#A|Ottawa, Ontario K1N8N8    2 + 1         3   \n",
       "3                39 KYLE AVENUE|Ottawa, Ontario K2S1G9    4 + 0         3   \n",
       "4          91 THISTLEDOWN COURT|Ottawa, Ontario K2J1J5    3 + 1         2   \n",
       "..                                                 ...      ...       ...   \n",
       "595    17306 MYERS ROAD|South Stormont, Ontario K0C2A0    4 + 0         4   \n",
       "596             1028 ADLEY ROAD|Ottawa, Ontario K1J8B9    3 + 0         2   \n",
       "597         3285 GREENBANK ROAD|Ottawa, Ontario K2J4J1    5 + 0         3   \n",
       "598           7101 MASON STREET|Greely, Ontario K4P1C3                      \n",
       "599  326 EVEREST PRIVATE UNIT#C|Ottawa, Ontario K1G4E3    2 + 0         2   \n",
       "\n",
       "                Agent Name Area Code Telephone       Price  \n",
       "0            Hardeep Singh       613  936-3996    $283,000  \n",
       "1             Joshua Coyle       613  577-4570    $324,900  \n",
       "2           Fu Xiang Xiong       613  261-1568    $699,000  \n",
       "3              Brenda Odam       613  762-0592    $949,000  \n",
       "4                Ali Novin       613  218-0808    $419,500  \n",
       "..                     ...       ...       ...         ...  \n",
       "595  Donna Chisholm-Forget       613  360-0929    $950,000  \n",
       "596          Suzie Lamothe       613  834-9255    $599,900  \n",
       "597              Peter Cai       647  529-5158  $6,530,000  \n",
       "598           Isam Hashweh       613  761-8350    $395,000  \n",
       "599       Jeffrey Gauthier       613  862-1077    $415,000  \n",
       "\n",
       "[600 rows x 7 columns]"
      ]
     },
     "execution_count": 54,
     "metadata": {},
     "output_type": "execute_result"
    }
   ],
   "source": [
    "df_realtor"
   ]
  },
  {
   "cell_type": "code",
   "execution_count": 55,
   "id": "145d7e8b-e7a5-4766-a78a-cfd14c5c83f2",
   "metadata": {},
   "outputs": [],
   "source": [
    "df_realtor.to_excel('realtor_multiple_pages.xlsx', index=False)"
   ]
  },
  {
   "cell_type": "code",
   "execution_count": null,
   "id": "39d85703-9e41-4c17-9b76-ab62fb28762a",
   "metadata": {},
   "outputs": [],
   "source": []
  }
 ],
 "metadata": {
  "kernelspec": {
   "display_name": "Python 3 (ipykernel)",
   "language": "python",
   "name": "python3"
  },
  "language_info": {
   "codemirror_mode": {
    "name": "ipython",
    "version": 3
   },
   "file_extension": ".py",
   "mimetype": "text/x-python",
   "name": "python",
   "nbconvert_exporter": "python",
   "pygments_lexer": "ipython3",
   "version": "3.12.0"
  }
 },
 "nbformat": 4,
 "nbformat_minor": 5
}
